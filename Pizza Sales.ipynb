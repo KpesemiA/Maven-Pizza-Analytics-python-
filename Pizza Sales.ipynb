{
 "cells": [
  {
   "cell_type": "code",
   "execution_count": null,
   "metadata": {},
   "outputs": [],
   "source": [
    "import numpy as np\n",
    "import pandas as pd\n",
    "import matplotlib.pyplot as plt\n",
    "\n",
    "%matplotlib inline\n",
    "\n"
   ]
  },
  {
   "cell_type": "code",
   "execution_count": null,
   "metadata": {},
   "outputs": [],
   "source": [
    "orders = pd.read_csv('C:/Users/Kpeseli/Desktop/Data Analysis files/Datasets/Pizza+Place+Sales/pizza_sales/orders.csv')\n",
    "order_details = pd.read_csv('C:/Users/Kpeseli/Desktop/Data Analysis files/Datasets/Pizza+Place+Sales/pizza_sales/order_details.csv')\n",
    "pizza_types = pd.read_csv('C:/Users/Kpeseli/Desktop/Data Analysis files/Datasets/Pizza+Place+Sales/pizza_sales/pizza_types.csv', encoding = 'windows-1252')\n",
    "pizzas = pd.read_csv('C:/Users/Kpeseli/Desktop/Data Analysis files/Datasets/Pizza+Place+Sales/pizza_sales/pizzas.csv')\n",
    "orders_days = pd.read_csv('C:/Users/Kpeseli/Desktop/Data Analysis files/Datasets/Pizza+Place+Sales/pizza_sales/orders_days.csv')\n",
    "orders_days"
   ]
  },
  {
   "cell_type": "code",
   "execution_count": null,
   "metadata": {},
   "outputs": [],
   "source": [
    "File = r'C:\\Users\\Kpeseli\\Desktop\\Data Analysis files\\Datasets\\Pizza+Place+Sales\\pizza_sales/pizza_types.csv'\n",
    "import chardet\n",
    "with open(File, 'rb') as rawdata:\n",
    "    result = chardet.detect(rawdata.read(100000))\n",
    "result    "
   ]
  },
  {
   "cell_type": "code",
   "execution_count": null,
   "metadata": {},
   "outputs": [],
   "source": [
    "days = orders_days[[\"days\"]]\n",
    "\n",
    "sundays = orders_days[orders_days[\"days\"].str.contains(\"Sunday\")]\n",
    "mondays = orders_days[orders_days[\"days\"].str.contains(\"Monday\")]\n",
    "tuesdays = orders_days[orders_days[\"days\"].str.contains(\"Tuesday\")]\n",
    "wednedays = orders_days[orders_days[\"days\"].str.contains(\"Wednesday\")]\n",
    "thursdays = orders_days[orders_days[\"days\"].str.contains(\"Thursday\")]\n",
    "fridays = orders_days[orders_days[\"days\"].str.contains(\"Friday\")]\n",
    "saturdays = orders_days[orders_days[\"days\"].str.contains(\"Saturday\")]\n",
    "sundays"
   ]
  },
  {
   "cell_type": "code",
   "execution_count": 7,
   "metadata": {},
   "outputs": [
    {
     "name": "stdout",
     "output_type": "stream",
     "text": [
      "There were 2624 orders on Sundays.\n",
      "There were 2794 orders on Mondays.\n",
      "There were 2973 odrers on Tuesdays.\n",
      "There were 3024 orders on Wednesdays.\n",
      "There were 3239 orders on Thursdays.\n",
      "There were 3538 orders on Fridays.\n",
      "There were 3158 orders on Saturdays.\n"
     ]
    }
   ],
   "source": [
    "orders_sundays = len(sundays)\n",
    "orders_mondays = len(mondays)\n",
    "orders_tuedays = len(tuesdays)\n",
    "orders_wednesdays = len(wednedays)\n",
    "orders_thursdays = len(thursdays)\n",
    "orders_fridays = len(fridays)\n",
    "orders_saturdays = len(saturdays)\n",
    "\n",
    "print(\"There were\", orders_sundays, \"orders on Sundays.\")\n",
    "print(\"There were\", orders_mondays, \"orders on Mondays.\")\n",
    "print(\"There were\", orders_tuedays, \"odrers on Tuesdays.\")\n",
    "print(\"There were\", orders_wednesdays, \"orders on Wednesdays.\")\n",
    "print(\"There were\", orders_thursdays, \"orders on Thursdays.\")\n",
    "print(\"There were\", orders_fridays, \"orders on Fridays.\")\n",
    "print(\"There were\", orders_saturdays, \"orders on Saturdays.\")\n"
   ]
  },
  {
   "cell_type": "code",
   "execution_count": 20,
   "metadata": {},
   "outputs": [],
   "source": [
    "orders_after_four = orders_days[(orders_days[\"time\"]) > \"15:59:59\"][[\"order_id\",\"date\",\"days\",\"time\"]]\n",
    "no_orders_after_four = len(orders_after_four)"
   ]
  },
  {
   "cell_type": "code",
   "execution_count": 21,
   "metadata": {},
   "outputs": [],
   "source": [
    "orders_before_four = orders_days[(orders_days[\"time\"]) < \"15:59:59\"][[\"order_id\",\"date\",\"days\",\"time\"]]\n",
    "no_orders_before_four = len(orders_before_four)"
   ]
  },
  {
   "cell_type": "code",
   "execution_count": 22,
   "metadata": {},
   "outputs": [
    {
     "name": "stdout",
     "output_type": "stream",
     "text": [
      "There were 9153 orders before 4PM each day\n",
      "There were 12196 orders after 4PM each day\n"
     ]
    }
   ],
   "source": [
    "print(\"There were\", no_orders_before_four, \"orders before 4PM each day\")\n",
    "print(\"There were\", no_orders_after_four, \"orders after 4PM each day\")"
   ]
  },
  {
   "cell_type": "code",
   "execution_count": null,
   "metadata": {},
   "outputs": [],
   "source": []
  },
  {
   "cell_type": "code",
   "execution_count": null,
   "metadata": {},
   "outputs": [],
   "source": []
  }
 ],
 "metadata": {
  "kernelspec": {
   "display_name": "Python 3 (ipykernel)",
   "language": "python",
   "name": "python3"
  },
  "language_info": {
   "codemirror_mode": {
    "name": "ipython",
    "version": 3
   },
   "file_extension": ".py",
   "mimetype": "text/x-python",
   "name": "python",
   "nbconvert_exporter": "python",
   "pygments_lexer": "ipython3",
   "version": "3.9.12"
  },
  "vscode": {
   "interpreter": {
    "hash": "1e50c4855bebfead3d5b4990106c5f1d7844ef11e7b74816422ea790f4949961"
   }
  }
 },
 "nbformat": 4,
 "nbformat_minor": 2
}
